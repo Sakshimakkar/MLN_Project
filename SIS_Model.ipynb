{
 "cells": [
  {
   "cell_type": "code",
   "execution_count": 1,
   "metadata": {},
   "outputs": [],
   "source": [
    "import networkx as nx\n",
    "import ndlib.models.ModelConfig as mc\n",
    "import ndlib.models.epidemics as ep\n",
    "\n",
    "# Network topology\n",
    "# g = nx.read_gexf(\"Linear_graph\")\n",
    "\n",
    "g=nx.read_gpickle(\"final_complete_graph_jamia_final\")"
   ]
  },
  {
   "cell_type": "code",
   "execution_count": 2,
   "metadata": {},
   "outputs": [],
   "source": [
    "import pickle\n",
    "ids = pickle.load(open(\"user_sir.pkl\",\"rb\"))\n",
    "# ids"
   ]
  },
  {
   "cell_type": "code",
   "execution_count": 3,
   "metadata": {},
   "outputs": [],
   "source": [
    "import pickle\n",
    "ground_truth = pickle.load(open(\"ground_truth_jamia\",\"rb\"))"
   ]
  },
  {
   "cell_type": "code",
   "execution_count": 4,
   "metadata": {},
   "outputs": [
    {
     "name": "stdout",
     "output_type": "stream",
     "text": [
      "1229\n",
      "62\n"
     ]
    }
   ],
   "source": [
    "n=set(list(g.nodes()))\n",
    "id_=set(ids)\n",
    "print(len(n))\n",
    "print(len(id_))"
   ]
  },
  {
   "cell_type": "code",
   "execution_count": 5,
   "metadata": {},
   "outputs": [
    {
     "data": {
      "text/plain": [
       "str"
      ]
     },
     "execution_count": 5,
     "metadata": {},
     "output_type": "execute_result"
    }
   ],
   "source": [
    "type(list(g)[0])"
   ]
  },
  {
   "cell_type": "code",
   "execution_count": 6,
   "metadata": {},
   "outputs": [
    {
     "data": {
      "text/plain": [
       "{'1021495661013942278',\n",
       " '1042572838761201665',\n",
       " '1076486409542873088',\n",
       " '1100927498',\n",
       " '1109163883082637312',\n",
       " '1180114533777494017',\n",
       " '1185548380845404163',\n",
       " '1200095151751778309',\n",
       " '1205590218348224512',\n",
       " '1206432997886414848',\n",
       " '1213812904413122563',\n",
       " '1225476466860650497',\n",
       " '1226860442477162497',\n",
       " '140372853',\n",
       " '141566388',\n",
       " '148476956',\n",
       " '1520011026',\n",
       " '175372810',\n",
       " '2222755940',\n",
       " '2262338208',\n",
       " '2283318716',\n",
       " '2392031700',\n",
       " '2426707940',\n",
       " '2540896328',\n",
       " '2695674967',\n",
       " '279483060',\n",
       " '2826529099',\n",
       " '2937105535',\n",
       " '3066913633',\n",
       " '316090631',\n",
       " '321380775',\n",
       " '3246507110',\n",
       " '3579200054',\n",
       " '368306365',\n",
       " '426463282',\n",
       " '4358041572',\n",
       " '4375069574',\n",
       " '4444559413',\n",
       " '48476518',\n",
       " '73043514',\n",
       " '73733159',\n",
       " '743275561',\n",
       " '773727446285819905',\n",
       " '822244260175089664',\n",
       " '822392302224052224',\n",
       " '844374128811544577',\n",
       " '859309618270322688',\n",
       " '877297524490477569',\n",
       " '883673304309133312',\n",
       " '913654504389668864',\n",
       " '938658666089037830',\n",
       " '96108332',\n",
       " '998090276274167808'}"
      ]
     },
     "execution_count": 6,
     "metadata": {},
     "output_type": "execute_result"
    }
   ],
   "source": [
    "id_.intersection(n)"
   ]
  },
  {
   "cell_type": "code",
   "execution_count": null,
   "metadata": {},
   "outputs": [],
   "source": [
    "%store -r infl_keys"
   ]
  },
  {
   "cell_type": "code",
   "execution_count": null,
   "metadata": {},
   "outputs": [],
   "source": [
    "# Model selection\n",
    "model = ep.SISModel(g)\n",
    "\n",
    "# Model Configuration\n",
    "cfg = mc.Configuration()\n",
    "cfg.add_model_parameter('beta', 0.0284)\n",
    "cfg.add_model_parameter('lambda', 0.0127)\n",
    "cfg.add_model_initial_configuration(\"Infected\", ids)\n",
    "# # cfg.add_model_parameter(\"fraction_infected\", 0.05)\n",
    "model.set_initial_status(cfg)\n",
    "\n",
    "# Simulation execution\n",
    "iterations = model.iteration_bunch(100)"
   ]
  },
  {
   "cell_type": "code",
   "execution_count": null,
   "metadata": {},
   "outputs": [],
   "source": [
    "# model.iteration"
   ]
  },
  {
   "cell_type": "code",
   "execution_count": null,
   "metadata": {},
   "outputs": [],
   "source": [
    "k=0\n",
    "list1=[]\n",
    "for i in iterations:\n",
    "    if i['status']:\n",
    "        k+=1\n",
    "        list1.append(i)\n",
    "# print(list1)\n",
    "# list1\n",
    "# iterations[5]"
   ]
  },
  {
   "cell_type": "code",
   "execution_count": 7,
   "metadata": {},
   "outputs": [],
   "source": [
    "# Model selection\n",
    "model1 = ep.IndependentCascadesModel(g)\n",
    "\n",
    "# Model Configuration\n",
    "cfg1 = mc.Configuration()\n",
    "cfg1.add_model_initial_configuration(\"Infected\", ids)\n",
    "threshold = 0.1\n",
    "for e in g.edges():\n",
    "    cfg1.add_edge_configuration(\"threshold\", e, threshold)\n",
    "# cfg.add_model_parameter(\"fraction_infected\", 0.05)\n",
    "model1.set_initial_status(cfg1)\n",
    "\n",
    "# Simulation execution\n",
    "iterations1 = model1.iteration_bunch(100)"
   ]
  },
  {
   "cell_type": "code",
   "execution_count": 8,
   "metadata": {},
   "outputs": [
    {
     "data": {
      "text/plain": [
       "{'iteration': 19,\n",
       " 'status': {},\n",
       " 'node_count': {0: 1060, 1: 9, 2: 169},\n",
       " 'status_delta': {0: 0, 1: 0, 2: 0}}"
      ]
     },
     "execution_count": 8,
     "metadata": {},
     "output_type": "execute_result"
    }
   ],
   "source": [
    "iterations1[19]"
   ]
  },
  {
   "cell_type": "code",
   "execution_count": 10,
   "metadata": {},
   "outputs": [],
   "source": [
    "# print(len(infl_keys))"
   ]
  },
  {
   "cell_type": "code",
   "execution_count": 11,
   "metadata": {},
   "outputs": [],
   "source": [
    "model_lt = ep.ThresholdModel(g)\n",
    "\n",
    "# Model Configuration\n",
    "config = mc.Configuration()\n",
    "config.add_model_initial_configuration(\"Infected\", ids)\n",
    "threshold = 0.5\n",
    "for e in g.edges():\n",
    "    config.add_edge_configuration(\"threshold\", e, threshold)\n",
    "# cfg.add_model_parameter(\"fraction_infected\", 0.05)\n",
    "model_lt.set_initial_status(config)\n",
    "\n",
    "# Simulation execution\n",
    "iterations_lt = model_lt.iteration_bunch(100)"
   ]
  },
  {
   "cell_type": "code",
   "execution_count": 12,
   "metadata": {},
   "outputs": [
    {
     "data": {
      "text/plain": [
       "{'iteration': 49,\n",
       " 'status': {},\n",
       " 'node_count': {0: 78, 1: 1160},\n",
       " 'status_delta': {0: 0, 1: 0}}"
      ]
     },
     "execution_count": 12,
     "metadata": {},
     "output_type": "execute_result"
    }
   ],
   "source": [
    "iterations_lt[49]"
   ]
  },
  {
   "cell_type": "code",
   "execution_count": 13,
   "metadata": {},
   "outputs": [],
   "source": [
    "# Model selection\n",
    "model_sir = ep.SIRModel(g)\n",
    "\n",
    "# Model Configuration\n",
    "config_sir = mc.Configuration()\n",
    "config_sir.add_model_initial_configuration(\"Infected\", ids)\n",
    "config_sir.add_model_parameter('beta', 0.0284)\n",
    "config_sir.add_model_parameter('gamma', 0.0127)\n",
    "# cfg.add_model_parameter(\"fraction_infected\", 0.05)\n",
    "model_sir.set_initial_status(config_sir)\n",
    "\n",
    "# Simulation execution\n",
    "iterations_sir = model_sir.iteration_bunch(100)"
   ]
  },
  {
   "cell_type": "code",
   "execution_count": null,
   "metadata": {},
   "outputs": [],
   "source": [
    "# print(iterations_sir[30] )?\n",
    "# , iterations_sir[10] , iterations_sir[20])    "
   ]
  },
  {
   "cell_type": "code",
   "execution_count": null,
   "metadata": {},
   "outputs": [],
   "source": [
    "# z=model_sir.get_info(g)"
   ]
  },
  {
   "cell_type": "code",
   "execution_count": 14,
   "metadata": {},
   "outputs": [
    {
     "name": "stdout",
     "output_type": "stream",
     "text": [
      "10 0.1\n",
      "20 0.05\n",
      "30 0.03333333333333333\n",
      "40 0.025\n",
      "50 0.02\n",
      "60 0.016666666666666666\n",
      "70 0.014285714285714285\n",
      "80 0.0125\n",
      "90 0.011111111111111112\n"
     ]
    }
   ],
   "source": [
    "all_retweeters=set(ground_truth)\n",
    "for k in range(10,100,10):\n",
    "    if k>=100:\n",
    "        k=99\n",
    "    map_=0\n",
    "    infected_upto=set()\n",
    "    pk=0\n",
    "    for i in range(1,k+1):\n",
    "        status = iterations_sir[i]['status']\n",
    "        if status:\n",
    "            for each_node in status:\n",
    "                if status[each_node]==1:\n",
    "                    infected_upto.add(each_node)\n",
    "    infected_actual = infected_upto.intersection(all_retweeters)\n",
    "    if infected_upto:\n",
    "        pk=len(infected_actual)/len(infected_upto)\n",
    "        map_+=pk\n",
    "    print(k,map_/k)"
   ]
  },
  {
   "cell_type": "code",
   "execution_count": 15,
   "metadata": {},
   "outputs": [],
   "source": [
    "# map_/count"
   ]
  },
  {
   "cell_type": "code",
   "execution_count": 16,
   "metadata": {},
   "outputs": [
    {
     "name": "stdout",
     "output_type": "stream",
     "text": [
      "10 0.1\n",
      "20 0.05\n",
      "30 0.03333333333333333\n",
      "40 0.025\n",
      "50 0.02\n",
      "60 0.016666666666666666\n",
      "70 0.014285714285714285\n",
      "80 0.0125\n",
      "90 0.011111111111111112\n"
     ]
    }
   ],
   "source": [
    "all_retweeters=set(ground_truth)\n",
    "for k in range(10,100,10):\n",
    "    if k>=100:\n",
    "        k=99\n",
    "    map_=0\n",
    "    infected_upto=set()\n",
    "    pk=0\n",
    "    for i in range(1,k+1):\n",
    "        status = iterations_lt[i]['status']\n",
    "        if status:\n",
    "            for each_node in status:\n",
    "                if status[each_node]==1:\n",
    "                    infected_upto.add(each_node)\n",
    "    infected_actual = infected_upto.intersection(all_retweeters)\n",
    "    if infected_upto:\n",
    "        pk=len(infected_actual)/len(infected_upto)\n",
    "        map_+=pk\n",
    "    print(k,map_/k)"
   ]
  },
  {
   "cell_type": "code",
   "execution_count": 17,
   "metadata": {},
   "outputs": [
    {
     "name": "stdout",
     "output_type": "stream",
     "text": [
      "10 0.1\n",
      "20 0.05\n",
      "30 0.03333333333333333\n",
      "40 0.025\n",
      "50 0.02\n",
      "60 0.016666666666666666\n",
      "70 0.014285714285714285\n",
      "80 0.0125\n",
      "90 0.011111111111111112\n"
     ]
    }
   ],
   "source": [
    "all_retweeters=set(ground_truth)\n",
    "for k in range(10,100,10):\n",
    "    if k>=100:\n",
    "        k=99\n",
    "    map_=0\n",
    "    infected_upto=set()\n",
    "    pk=0\n",
    "    for i in range(1,k+1):\n",
    "        status = iterations1[i]['status']\n",
    "        if status:\n",
    "            for each_node in status:\n",
    "                if status[each_node]==1:\n",
    "                    infected_upto.add(each_node)\n",
    "    infected_actual = infected_upto.intersection(all_retweeters)\n",
    "    if infected_upto:\n",
    "        pk=len(infected_actual)/len(infected_upto)\n",
    "        map_+=pk\n",
    "    print(k,map_/k)"
   ]
  },
  {
   "cell_type": "code",
   "execution_count": null,
   "metadata": {},
   "outputs": [],
   "source": []
  }
 ],
 "metadata": {
  "kernelspec": {
   "display_name": "Python 3",
   "language": "python",
   "name": "python3"
  },
  "language_info": {
   "codemirror_mode": {
    "name": "ipython",
    "version": 3
   },
   "file_extension": ".py",
   "mimetype": "text/x-python",
   "name": "python",
   "nbconvert_exporter": "python",
   "pygments_lexer": "ipython3",
   "version": "3.7.3"
  }
 },
 "nbformat": 4,
 "nbformat_minor": 2
}
